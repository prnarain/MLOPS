{
  "nbformat": 4,
  "nbformat_minor": 0,
  "metadata": {
    "kernelspec": {
      "display_name": "Python 3",
      "language": "python",
      "name": "python3"
    },
    "language_info": {
      "codemirror_mode": {
        "name": "ipython",
        "version": 3
      },
      "file_extension": ".py",
      "mimetype": "text/x-python",
      "name": "python",
      "nbconvert_exporter": "python",
      "pygments_lexer": "ipython3",
      "version": "3.8.3"
    },
    "colab": {
      "name": "MLOps_Assignment 3.ipynb",
      "provenance": [],
      "collapsed_sections": []
    }
  },
  "cells": [
    {
      "cell_type": "code",
      "metadata": {
        "id": "2_nFv6ARipcP"
      },
      "source": [
        "# Standard scientific Python imports\n",
        "import matplotlib.pyplot as plt\n",
        "\n",
        "# Import datasets, classifiers and performance metrics\n",
        "from sklearn import datasets, svm, metrics\n",
        "from sklearn.metrics import accuracy_score\n",
        "from sklearn.model_selection import train_test_split\n",
        "from skimage.transform import rescale, resize, downscale_local_mean"
      ],
      "execution_count": 8,
      "outputs": []
    },
    {
      "cell_type": "code",
      "metadata": {
        "colab": {
          "base_uri": "https://localhost:8080/"
        },
        "id": "uMWsSjStipcU",
        "outputId": "eaf0c7ab-5347-4457-e654-56a651a9693b"
      },
      "source": [
        "digits = datasets.load_digits()\n",
        "print(f\"Total rows/images  in the dataset :{len(digits.data)}\")\n",
        "print(f\"Total rows and columns in the dataset :{digits.data.shape}\")\n",
        "print(f\"Total rows and columns(with each column size) in the dataset :{digits.images.shape}\")\n",
        "print(f\"Shape of each image in the the dataset :{digits.images[-1].shape}\")"
      ],
      "execution_count": 9,
      "outputs": [
        {
          "output_type": "stream",
          "name": "stdout",
          "text": [
            "Total rows/images  in the dataset :1797\n",
            "Total rows and columns in the dataset :(1797, 64)\n",
            "Total rows and columns(with each column size) in the dataset :(1797, 8, 8)\n",
            "Shape of each image in the the dataset :(8, 8)\n"
          ]
        }
      ]
    },
    {
      "cell_type": "code",
      "metadata": {
        "id": "UNRGSfjhj6LL"
      },
      "source": [
        "## =====rescale function ================\n",
        "import numpy as np\n",
        "\n",
        "def fun_rescale(scale):\n",
        "  #image_rescaled = digits.images\n",
        "  image_rescaled = np.full([1797,8*scale,8*scale],None)    \n",
        "  i = 0 \n",
        "  for image in digits.images:\n",
        "    image = rescale(image, scale, anti_aliasing=False) \n",
        "    image_rescaled[i] = image\n",
        "    i = i+1\n",
        "  return image_rescaled"
      ],
      "execution_count": 10,
      "outputs": []
    },
    {
      "cell_type": "code",
      "metadata": {
        "colab": {
          "base_uri": "https://localhost:8080/"
        },
        "id": "Hqak9aUNipcW",
        "outputId": "35615477-2f4f-465b-dff8-0ef53fef32ca"
      },
      "source": [
        "image_rescaled_1 = fun_rescale(2)\n",
        "image_rescaled_2 = fun_rescale(4)\n",
        "image_rescaled_3 = fun_rescale(8)\n",
        "print(f\"Shape of each scaled (2 times) image in the the dataset :{image_rescaled_1.shape}\")\n",
        "print(f\"Shape of each scaled (4 times) image in the the dataset :{image_rescaled_2.shape}\")\n",
        "print(f\"Shape of each scaled (8 times) image in the the dataset :{image_rescaled_3.shape}\")"
      ],
      "execution_count": 11,
      "outputs": [
        {
          "output_type": "stream",
          "name": "stdout",
          "text": [
            "Shape of each scaled (2 times) image in the the dataset :(1797, 16, 16)\n",
            "Shape of each scaled (4 times) image in the the dataset :(1797, 32, 32)\n",
            "Shape of each scaled (8 times) image in the the dataset :(1797, 64, 64)\n"
          ]
        }
      ]
    },
    {
      "cell_type": "code",
      "metadata": {
        "colab": {
          "base_uri": "https://localhost:8080/",
          "height": 185
        },
        "id": "-GGJwJjlipcX",
        "outputId": "200ab603-4e8d-4525-f716-827d2d5bfbe7"
      },
      "source": [
        "print(\"print Original image\")\n",
        "_, axes = plt.subplots(nrows=1, ncols=4, figsize=(10, 3))\n",
        "for ax, image, label in zip(axes, digits.images, digits.target):\n",
        "    ax.set_axis_off()\n",
        "    ax.imshow(image, cmap=plt.cm.gray_r, interpolation='nearest')\n",
        "    ax.set_title('Training: %i' % label)"
      ],
      "execution_count": 12,
      "outputs": [
        {
          "output_type": "stream",
          "name": "stdout",
          "text": [
            "print Original image\n"
          ]
        },
        {
          "output_type": "display_data",
          "data": {
            "image/png": "[encoded data removed]",
            "text/plain": [
              "<Figure size 720x216 with 4 Axes>"
            ]
          },
          "metadata": {
            "needs_background": "light"
          }
        }
      ]
    },
    {
      "cell_type": "code",
      "metadata": {
        "colab": {
          "base_uri": "https://localhost:8080/"
        },
        "id": "MtXd82uWipca",
        "outputId": "f084d865-ee2d-4677-b950-7a84324b5869"
      },
      "source": [
        "# flatten the images\n",
        "n_samples = len(image_rescaled_1)\n",
        "data = image_rescaled_1.reshape((n_samples, -1))\n",
        "\n",
        "clf = svm.SVC(gamma=0.001)\n",
        "X_train, X_test, y_train, y_test = train_test_split(\n",
        "  data, digits.target, test_size=0.5, shuffle=False)\n",
        "clf.fit(X_train, y_train)\n",
        "predicted = clf.predict(X_test)    \n",
        "acc1 = accuracy_score(y_test, predicted)\n",
        "print (\"Accuracy:\", accuracy_score(y_test, predicted))\n",
        "\n",
        "\n",
        "clf = svm.SVC(gamma=0.01)\n",
        "X_train, X_test, y_train, y_test = train_test_split(\n",
        "  data, digits.target, test_size=0.5, shuffle=False)\n",
        "clf.fit(X_train, y_train)\n",
        "predicted = clf.predict(X_test)    \n",
        "acc2 = accuracy_score(y_test, predicted)\n",
        "print (\"Accuracy:\", accuracy_score(y_test, predicted))\n",
        "\n",
        "\n",
        "clf = svm.SVC(gamma=0.1)\n",
        "X_train, X_test, y_train, y_test = train_test_split(\n",
        "  data, digits.target, test_size=0.5, shuffle=False)\n",
        "clf.fit(X_train, y_train)\n",
        "predicted = clf.predict(X_test)    \n",
        "acc3 = accuracy_score(y_test, predicted)\n",
        "print (\"Accuracy:\", accuracy_score(y_test, predicted))\n",
        "\n"
      ],
      "execution_count": 13,
      "outputs": [
        {
          "output_type": "stream",
          "name": "stdout",
          "text": [
            "Accuracy: 0.9666295884315906\n",
            "Accuracy: 0.2914349276974416\n",
            "Accuracy: 0.10122358175750834\n"
          ]
        }
      ]
    },
    {
      "cell_type": "code",
      "metadata": {
        "colab": {
          "base_uri": "https://localhost:8080/"
        },
        "id": "e89MkpG8ipcb",
        "outputId": "398220dc-a9d8-41f1-e977-83b72663fc0d"
      },
      "source": [
        "# flatten the images\n",
        "n_samples = len(image_rescaled_1)\n",
        "data = image_rescaled_1.reshape((n_samples, -1))\n",
        "\n",
        "clf = svm.SVC(gamma=0.001)\n",
        "X_train, X_test, y_train, y_test = train_test_split(\n",
        "    data, digits.target, test_size=0.8, shuffle=False)\n",
        "clf.fit(X_train, y_train)\n",
        "predicted = clf.predict(X_test)\n",
        "acc4 = accuracy_score(y_test, predicted)\n",
        "print (\"Accuracy:\", accuracy_score(y_test, predicted))\n",
        "\n",
        "clf = svm.SVC(gamma=0.01)\n",
        "X_train, X_test, y_train, y_test = train_test_split(\n",
        "    data, digits.target, test_size=0.8, shuffle=False)\n",
        "clf.fit(X_train, y_train)\n",
        "predicted = clf.predict(X_test)\n",
        "acc5 = accuracy_score(y_test, predicted)\n",
        "print (\"Accuracy:\", accuracy_score(y_test, predicted))\n",
        "\n",
        "clf = svm.SVC(gamma=0.1)\n",
        "X_train, X_test, y_train, y_test = train_test_split(\n",
        "    data, digits.target, test_size=0.8, shuffle=False)\n",
        "clf.fit(X_train, y_train)\n",
        "predicted = clf.predict(X_test)\n",
        "acc6 = accuracy_score(y_test, predicted)\n",
        "print (\"Accuracy:\", accuracy_score(y_test, predicted))\n"
      ],
      "execution_count": 14,
      "outputs": [
        {
          "output_type": "stream",
          "name": "stdout",
          "text": [
            "Accuracy: 0.8866481223922114\n",
            "Accuracy: 0.1474269819193324\n",
            "Accuracy: 0.10222531293463143\n"
          ]
        }
      ]
    },
    {
      "cell_type": "code",
      "metadata": {
        "colab": {
          "base_uri": "https://localhost:8080/"
        },
        "id": "ZWfvkLUjipcc",
        "outputId": "35f4d2ac-782b-4445-d8bb-dc77c4a39a10"
      },
      "source": [
        "# flatten the images\n",
        "n_samples = len(image_rescaled_1)\n",
        "data = image_rescaled_1.reshape((n_samples, -1))\n",
        "\n",
        "clf = svm.SVC(gamma=0.001)\n",
        "X_train, X_test, y_train, y_test = train_test_split(\n",
        "    data, digits.target, test_size=0.9, shuffle=False)\n",
        "clf.fit(X_train, y_train)\n",
        "predicted = clf.predict(X_test)\n",
        "acc7 = accuracy_score(y_test, predicted)\n",
        "print (\"Accuracy:\",accuracy_score(y_test, predicted))\n",
        "\n",
        "clf = svm.SVC(gamma=0.01)\n",
        "X_train, X_test, y_train, y_test = train_test_split(\n",
        "    data, digits.target, test_size=0.9, shuffle=False)\n",
        "clf.fit(X_train, y_train)\n",
        "predicted = clf.predict(X_test)\n",
        "acc8 = accuracy_score(y_test, predicted)\n",
        "print (\"Accuracy:\",accuracy_score(y_test, predicted))\n",
        "\n",
        "clf = svm.SVC(gamma=0.1)\n",
        "X_train, X_test, y_train, y_test = train_test_split(\n",
        "    data, digits.target, test_size=0.9, shuffle=False)\n",
        "clf.fit(X_train, y_train)\n",
        "predicted = clf.predict(X_test)\n",
        "acc9 = accuracy_score(y_test, predicted)\n",
        "print (\"Accuracy:\",accuracy_score(y_test, predicted))\n"
      ],
      "execution_count": 15,
      "outputs": [
        {
          "output_type": "stream",
          "name": "stdout",
          "text": [
            "Accuracy: 0.8009888751545118\n",
            "Accuracy: 0.10444993819530285\n",
            "Accuracy: 0.10012360939431397\n"
          ]
        }
      ]
    },
    {
      "cell_type": "code",
      "metadata": {
        "colab": {
          "base_uri": "https://localhost:8080/"
        },
        "id": "j2yI-ywmipcd",
        "outputId": "929144d6-4850-415a-b9ee-574486b81fa3"
      },
      "source": [
        "# flatten the images\n",
        "\n",
        "n_samples = len(image_rescaled_2)\n",
        "data = image_rescaled_2.reshape((n_samples, -1))\n",
        "\n",
        "clf = svm.SVC(gamma=0.001)\n",
        "X_train, X_test, y_train, y_test = train_test_split(\n",
        "    data, digits.target, test_size=0.5, shuffle=False)\n",
        "clf.fit(X_train, y_train)\n",
        "predicted = clf.predict(X_test)\n",
        "acc10 = accuracy_score(y_test, predicted)\n",
        "print (\"Accuracy:\",accuracy_score(y_test, predicted))\n",
        "\n",
        "\n",
        "\n",
        "clf = svm.SVC(gamma=0.01)\n",
        "X_train, X_test, y_train, y_test = train_test_split(\n",
        "    data, digits.target, test_size=0.5, shuffle=False)\n",
        "clf.fit(X_train, y_train)\n",
        "predicted = clf.predict(X_test)\n",
        "acc11 = accuracy_score(y_test, predicted)\n",
        "print (\"Accuracy:\",accuracy_score(y_test, predicted))\n",
        "\n",
        "\n",
        "clf = svm.SVC(gamma=0.1)\n",
        "X_train, X_test, y_train, y_test = train_test_split(\n",
        "    data, digits.target, test_size=0.5, shuffle=False)\n",
        "clf.fit(X_train, y_train)\n",
        "predicted = clf.predict(X_test)\n",
        "acc12 = accuracy_score(y_test, predicted)\n",
        "print (\"Accuracy:\",accuracy_score(y_test, predicted))\n"
      ],
      "execution_count": 16,
      "outputs": [
        {
          "output_type": "stream",
          "name": "stdout",
          "text": [
            "Accuracy: 0.7474972191323693\n",
            "Accuracy: 0.10122358175750834\n",
            "Accuracy: 0.10122358175750834\n"
          ]
        }
      ]
    },
    {
      "cell_type": "code",
      "metadata": {
        "colab": {
          "base_uri": "https://localhost:8080/"
        },
        "id": "_55gCy8aipce",
        "outputId": "b78c1c87-57e2-4677-de20-d152b2d884f5"
      },
      "source": [
        "# flatten the images\n",
        "n_samples = len(image_rescaled_2)\n",
        "data = image_rescaled_2.reshape((n_samples, -1))\n",
        "\n",
        "clf = svm.SVC(gamma=0.001)\n",
        "X_train, X_test, y_train, y_test = train_test_split(\n",
        "    data, digits.target, test_size=0.8, shuffle=False)\n",
        "clf.fit(X_train, y_train)\n",
        "predicted = clf.predict(X_test)\n",
        "acc13 = accuracy_score(y_test, predicted)\n",
        "print(\"Accuracy\",accuracy_score(y_test, predicted))\n",
        "\n",
        "clf = svm.SVC(gamma=0.01)\n",
        "X_train, X_test, y_train, y_test = train_test_split(\n",
        "    data, digits.target, test_size=0.8, shuffle=False)\n",
        "clf.fit(X_train, y_train)\n",
        "predicted = clf.predict(X_test)\n",
        "acc14 = accuracy_score(y_test, predicted)\n",
        "print(\"Accuracy\",accuracy_score(y_test, predicted))\n",
        "\n",
        "clf = svm.SVC(gamma=0.1)\n",
        "X_train, X_test, y_train, y_test = train_test_split(\n",
        "    data, digits.target, test_size=0.8, shuffle=False)\n",
        "clf.fit(X_train, y_train)\n",
        "predicted = clf.predict(X_test)\n",
        "acc15 = accuracy_score(y_test, predicted)\n",
        "print(\"Accuracy\",accuracy_score(y_test, predicted))\n"
      ],
      "execution_count": 17,
      "outputs": [
        {
          "output_type": "stream",
          "name": "stdout",
          "text": [
            "Accuracy 0.6265646731571627\n",
            "Accuracy 0.1043115438108484\n",
            "Accuracy 0.16828929068150209\n"
          ]
        }
      ]
    },
    {
      "cell_type": "code",
      "metadata": {
        "colab": {
          "base_uri": "https://localhost:8080/"
        },
        "id": "gDFpPEhjipcf",
        "outputId": "062559bc-03c4-480c-8d1e-c32e62509b70"
      },
      "source": [
        "# flatten the images\n",
        "n_samples = len(image_rescaled_2)\n",
        "data = image_rescaled_2.reshape((n_samples, -1))\n",
        "\n",
        "clf = svm.SVC(gamma=0.001)\n",
        "X_train, X_test, y_train, y_test = train_test_split(\n",
        "    data, digits.target, test_size=0.9, shuffle=False)\n",
        "clf.fit(X_train, y_train)\n",
        "predicted = clf.predict(X_test)\n",
        "acc16 = accuracy_score(y_test, predicted)\n",
        "print (\"Accuracy:\",accuracy_score(y_test, predicted))\n",
        "\n",
        "\n",
        "clf = svm.SVC(gamma=0.01)\n",
        "X_train, X_test, y_train, y_test = train_test_split(\n",
        "    data, digits.target, test_size=0.9, shuffle=False)\n",
        "clf.fit(X_train, y_train)\n",
        "predicted = clf.predict(X_test)\n",
        "acc17 = accuracy_score(y_test, predicted)\n",
        "print (\"Accuracy:\",accuracy_score(y_test, predicted))\n",
        "\n",
        "clf = svm.SVC(gamma=0.1)\n",
        "X_train, X_test, y_train, y_test = train_test_split(\n",
        "    data, digits.target, test_size=0.9, shuffle=False)\n",
        "clf.fit(X_train, y_train)\n",
        "predicted = clf.predict(X_test)\n",
        "acc18 = accuracy_score(y_test, predicted)\n",
        "print (\"Accuracy:\",accuracy_score(y_test, predicted))\n"
      ],
      "execution_count": 18,
      "outputs": [
        {
          "output_type": "stream",
          "name": "stdout",
          "text": [
            "Accuracy: 0.31087762669962915\n",
            "Accuracy: 0.10012360939431397\n",
            "Accuracy: 0.10012360939431397\n"
          ]
        }
      ]
    },
    {
      "cell_type": "code",
      "metadata": {
        "colab": {
          "base_uri": "https://localhost:8080/"
        },
        "id": "Z_nkZSBHipcg",
        "outputId": "b8dd26c2-8418-4363-8626-b8d6c78a6741"
      },
      "source": [
        "# flatten the images\n",
        "n_samples = len(image_rescaled_3)\n",
        "data = image_rescaled_3.reshape((n_samples, -1))\n",
        "\n",
        "clf = svm.SVC(gamma=0.001)\n",
        "X_train, X_test, y_train, y_test = train_test_split(\n",
        "    data, digits.target, test_size=0.5, shuffle=False)\n",
        "clf.fit(X_train, y_train)\n",
        "predicted = clf.predict(X_test)\n",
        "acc19 = accuracy_score(y_test, predicted)\n",
        "print (\"Accuracy:\",accuracy_score(y_test, predicted))\n",
        "\n",
        "clf = svm.SVC(gamma=0.01)\n",
        "X_train, X_test, y_train, y_test = train_test_split(\n",
        "    data, digits.target, test_size=0.5, shuffle=False)\n",
        "clf.fit(X_train, y_train)\n",
        "predicted = clf.predict(X_test)\n",
        "acc20 = accuracy_score(y_test, predicted)\n",
        "print (\"Accuracy:\",accuracy_score(y_test, predicted))\n",
        "\n",
        "clf = svm.SVC(gamma=0.1)\n",
        "X_train, X_test, y_train, y_test = train_test_split(\n",
        "    data, digits.target, test_size=0.5, shuffle=False)\n",
        "clf.fit(X_train, y_train)\n",
        "predicted = clf.predict(X_test)\n",
        "acc21 = accuracy_score(y_test, predicted)\n",
        "print (\"Accuracy:\",accuracy_score(y_test, predicted))\n",
        "\n"
      ],
      "execution_count": 19,
      "outputs": [
        {
          "output_type": "stream",
          "name": "stdout",
          "text": [
            "Accuracy: 0.11568409343715239\n",
            "Accuracy: 0.10122358175750834\n",
            "Accuracy: 0.10122358175750834\n"
          ]
        }
      ]
    },
    {
      "cell_type": "code",
      "metadata": {
        "colab": {
          "base_uri": "https://localhost:8080/"
        },
        "id": "fG44cCmhipcg",
        "outputId": "c8724faa-bf9b-4693-c311-f3591ef0314e"
      },
      "source": [
        "# flatten the images\n",
        "n_samples = len(image_rescaled_3)\n",
        "data = image_rescaled_3.reshape((n_samples, -1))\n",
        "\n",
        "clf = svm.SVC(gamma=0.001)\n",
        "X_train, X_test, y_train, y_test = train_test_split(\n",
        "    data, digits.target, test_size=0.8, shuffle=False)\n",
        "clf.fit(X_train, y_train)\n",
        "predicted = clf.predict(X_test)\n",
        "acc22 = accuracy_score(y_test, predicted)\n",
        "print (\"Accuracy:\",accuracy_score(y_test, predicted))\n",
        "\n",
        "clf = svm.SVC(gamma=0.1)\n",
        "X_train, X_test, y_train, y_test = train_test_split(\n",
        "    data, digits.target, test_size=0.8, shuffle=False)\n",
        "clf.fit(X_train, y_train)\n",
        "predicted = clf.predict(X_test)\n",
        "acc23 = accuracy_score(y_test, predicted)\n",
        "print (\"Accuracy:\",accuracy_score(y_test, predicted))\n",
        "\n",
        "clf = svm.SVC(gamma=1)\n",
        "X_train, X_test, y_train, y_test = train_test_split(\n",
        "    data, digits.target, test_size=0.8, shuffle=False)\n",
        "clf.fit(X_train, y_train)\n",
        "predicted = clf.predict(X_test)\n",
        "acc24 = accuracy_score(y_test, predicted)\n",
        "print (\"Accuracy:\",accuracy_score(y_test, predicted))"
      ],
      "execution_count": 20,
      "outputs": [
        {
          "output_type": "stream",
          "name": "stdout",
          "text": [
            "Accuracy: 0.11474269819193324\n",
            "Accuracy: 0.1356050069541029\n",
            "Accuracy: 0.10083449235048679\n"
          ]
        }
      ]
    },
    {
      "cell_type": "code",
      "metadata": {
        "colab": {
          "base_uri": "https://localhost:8080/"
        },
        "id": "lzidprsYipck",
        "outputId": "063e04f0-70dc-4927-a12f-0e93b9bc7156"
      },
      "source": [
        "# flatten the images\n",
        "n_samples = len(image_rescaled_3)\n",
        "data = image_rescaled_3.reshape((n_samples, -1))\n",
        "\n",
        "# Create a classifier: a support vector classifier\n",
        "clf = svm.SVC(gamma=0.001)\n",
        "X_train, X_test, y_train, y_test = train_test_split(\n",
        "    data, digits.target, test_size=0.9, shuffle=False)\n",
        "clf.fit(X_train, y_train)\n",
        "predicted = clf.predict(X_test)\n",
        "acc25 = accuracy_score(y_test, predicted)\n",
        "print (\"Accuracy:\", accuracy_score(y_test, predicted))\n",
        "\n",
        "\n",
        "clf = svm.SVC(gamma=0.01)\n",
        "X_train, X_test, y_train, y_test = train_test_split(\n",
        "    data, digits.target, test_size=0.9, shuffle=False)\n",
        "clf.fit(X_train, y_train)\n",
        "predicted = clf.predict(X_test)\n",
        "acc26 = accuracy_score(y_test, predicted)\n",
        "print (\"Accuracy:\", accuracy_score(y_test, predicted))\n",
        "\n",
        "clf = svm.SVC(gamma=0.1)\n",
        "X_train, X_test, y_train, y_test = train_test_split(\n",
        "    data, digits.target, test_size=0.9, shuffle=False)\n",
        "clf.fit(X_train, y_train)\n",
        "predicted = clf.predict(X_test)\n",
        "acc27 = accuracy_score(y_test, predicted)\n",
        "print (\"Accuracy:\", accuracy_score(y_test, predicted))\n"
      ],
      "execution_count": 21,
      "outputs": [
        {
          "output_type": "stream",
          "name": "stdout",
          "text": [
            "Accuracy: 0.10012360939431397\n",
            "Accuracy: 0.10012360939431397\n",
            "Accuracy: 0.10012360939431397\n"
          ]
        }
      ]
    },
    {
      "cell_type": "code",
      "metadata": {
        "colab": {
          "base_uri": "https://localhost:8080/"
        },
        "id": "--FCwJfb9X-t",
        "outputId": "c98b9d35-1d55-4171-9e41-2bb1840d817e"
      },
      "source": [
        "print (\"rescale 2x - accuracy\\n\")\n",
        "print (\"Gamma------- 0.001-0.01-0.1 \\n\")\n",
        "print (\"(Test 0.5) \",round(acc1,2),round(acc2,2),round(acc3,2))\n",
        "print (\"(Test 0.8) \",round(acc4,2),round(acc5,2),round(acc6,2))\n",
        "print (\"(Test 0.9) \",round(acc7,2),round(acc8,2),round(acc9,2))\n",
        "\n",
        "\n",
        "print (\"\\nrescale 4x - accuracy\\n\")\n",
        "print (\"Gamma------- 0.001-0.01-0.1 \\n\")\n",
        "print (\"(Test 0.5) \",round(acc10,2),round(acc11,2),round(acc12,2))\n",
        "print (\"(Test 0.8) \",round(acc13,2),round(acc14,2),round(acc15,2))\n",
        "print (\"(Test 0.9) \",round(acc16,2),round(acc17,2),round(acc18,2))\n",
        "\n",
        "\n",
        "print (\"\\nrescale 8x - accuracy\\n\")\n",
        "print (\"Gamma------- 0.001-0.01-0.1 \\n\")\n",
        "print (\"(Test 0.5) \",round(acc19,2),round(acc20,2),round(acc21,2))\n",
        "print (\"(Test 0.8) \",round(acc22,2),round(acc23,2),round(acc24,2))\n",
        "print (\"(Test 0.9) \",round(acc25,2),round(acc26,2),round(acc27,2))\n"
      ],
      "execution_count": 32,
      "outputs": [
        {
          "output_type": "stream",
          "name": "stdout",
          "text": [
            "rescale 2x - accuracy\n",
            "\n",
            "Gamma------- 0.001-0.01-0.1 \n",
            "\n",
            "(Test 0.5)  0.97 0.29 0.1\n",
            "(Test 0.8)  0.89 0.15 0.1\n",
            "(Test 0.9)  0.8 0.1 0.1\n",
            "\n",
            "rescale 4x - accuracy\n",
            "\n",
            "Gamma------- 0.001-0.01-0.1 \n",
            "\n",
            "(Test 0.5)  0.75 0.1 0.1\n",
            "(Test 0.8)  0.63 0.1 0.17\n",
            "(Test 0.9)  0.31 0.1 0.1\n",
            "\n",
            "rescale 8x - accuracy\n",
            "\n",
            "Gamma------- 0.001-0.01-0.1 \n",
            "\n",
            "(Test 0.5)  0.12 0.1 0.1\n",
            "(Test 0.8)  0.11 0.14 0.1\n",
            "(Test 0.9)  0.1 0.1 0.1\n"
          ]
        }
      ]
    }
  ]
}